{
 "cells": [
  {
   "cell_type": "markdown",
   "metadata": {},
   "source": [
    "# Project 5: NLP on Financial Statements\n",
    "## Instructions\n",
    "Each problem consists of a function to implement and instructions on how to implement the function.  The parts of the function that need to be implemented are marked with a `# TODO` comment. After implementing the function, run the cell to test it against the unit tests we've provided. For each problem, we provide one or more unit tests from our `project_tests` package. These unit tests won't tell you if your answer is correct, but will warn you of any major errors. Your code will be checked for the correct solution when you submit it to Udacity.\n",
    "\n",
    "## Packages\n",
    "When you implement the functions, you'll only need to you use the packages you've used in the classroom, like [Pandas](https://pandas.pydata.org/) and [Numpy](http://www.numpy.org/). These packages will be imported for you. We recommend you don't add any import statements, otherwise the grader might not be able to run your code.\n",
    "\n",
    "The other packages that we're importing are `project_helper` and `project_tests`. These are custom packages built to help you solve the problems.  The `project_helper` module contains utility functions and graph functions. The `project_tests` contains the unit tests for all the problems.\n",
    "\n",
    "### Install Packages"
   ]
  },
  {
   "cell_type": "code",
   "execution_count": 1,
   "metadata": {},
   "outputs": [
    {
     "name": "stdout",
     "output_type": "stream",
     "text": [
      "Requirement already satisfied: alphalens==0.3.2 in e:\\anaconda3\\envs\\nlp\\lib\\site-packages (from -r requirements.txt (line 1)) (0.3.2)\n",
      "Requirement already satisfied: nltk==3.3.0 in e:\\anaconda3\\envs\\nlp\\lib\\site-packages (from -r requirements.txt (line 2)) (3.3)\n",
      "Requirement already satisfied: numpy==1.14.5 in e:\\anaconda3\\envs\\nlp\\lib\\site-packages (from -r requirements.txt (line 3)) (1.14.5)\n",
      "Requirement already satisfied: ratelimit==2.2.0 in e:\\anaconda3\\envs\\nlp\\lib\\site-packages (from -r requirements.txt (line 4)) (2.2.0)\n",
      "Requirement already satisfied: requests==2.18.4 in e:\\anaconda3\\envs\\nlp\\lib\\site-packages (from -r requirements.txt (line 5)) (2.18.4)\n",
      "Requirement already satisfied: scikit-learn==0.19.1 in e:\\anaconda3\\envs\\nlp\\lib\\site-packages (from -r requirements.txt (line 6)) (0.19.1)\n",
      "Requirement already satisfied: six==1.11.0 in e:\\anaconda3\\envs\\nlp\\lib\\site-packages (from -r requirements.txt (line 7)) (1.11.0)\n",
      "Requirement already satisfied: tqdm==4.19.5 in e:\\anaconda3\\envs\\nlp\\lib\\site-packages (from -r requirements.txt (line 8)) (4.19.5)\n",
      "Requirement already satisfied: pandas>=0.18.0 in e:\\anaconda3\\envs\\nlp\\lib\\site-packages (from alphalens==0.3.2->-r requirements.txt (line 1)) (1.0.5)\n",
      "Requirement already satisfied: statsmodels>=0.6.1 in e:\\anaconda3\\envs\\nlp\\lib\\site-packages (from alphalens==0.3.2->-r requirements.txt (line 1)) (0.11.1)\n",
      "Requirement already satisfied: matplotlib>=1.4.0 in e:\\anaconda3\\envs\\nlp\\lib\\site-packages (from alphalens==0.3.2->-r requirements.txt (line 1)) (3.2.2)\n",
      "Requirement already satisfied: scipy>=0.14.0 in e:\\anaconda3\\envs\\nlp\\lib\\site-packages (from alphalens==0.3.2->-r requirements.txt (line 1)) (1.5.0)\n",
      "Requirement already satisfied: seaborn>=0.6.0 in e:\\anaconda3\\envs\\nlp\\lib\\site-packages (from alphalens==0.3.2->-r requirements.txt (line 1)) (0.10.1)\n",
      "Requirement already satisfied: IPython>=3.2.3 in e:\\anaconda3\\envs\\nlp\\lib\\site-packages (from alphalens==0.3.2->-r requirements.txt (line 1)) (7.16.1)\n",
      "Requirement already satisfied: chardet<3.1.0,>=3.0.2 in e:\\anaconda3\\envs\\nlp\\lib\\site-packages (from requests==2.18.4->-r requirements.txt (line 5)) (3.0.4)\n",
      "Requirement already satisfied: idna<2.7,>=2.5 in e:\\anaconda3\\envs\\nlp\\lib\\site-packages (from requests==2.18.4->-r requirements.txt (line 5)) (2.6)\n",
      "Requirement already satisfied: urllib3<1.23,>=1.21.1 in e:\\anaconda3\\envs\\nlp\\lib\\site-packages (from requests==2.18.4->-r requirements.txt (line 5)) (1.22)\n",
      "Requirement already satisfied: certifi>=2017.4.17 in e:\\anaconda3\\envs\\nlp\\lib\\site-packages (from requests==2.18.4->-r requirements.txt (line 5)) (2020.6.20)\n",
      "Requirement already satisfied: python-dateutil>=2.6.1 in e:\\anaconda3\\envs\\nlp\\lib\\site-packages (from pandas>=0.18.0->alphalens==0.3.2->-r requirements.txt (line 1)) (2.8.1)\n",
      "Requirement already satisfied: pytz>=2017.2 in e:\\anaconda3\\envs\\nlp\\lib\\site-packages (from pandas>=0.18.0->alphalens==0.3.2->-r requirements.txt (line 1)) (2020.1)\n",
      "Requirement already satisfied: patsy>=0.5 in e:\\anaconda3\\envs\\nlp\\lib\\site-packages (from statsmodels>=0.6.1->alphalens==0.3.2->-r requirements.txt (line 1)) (0.5.1)\n",
      "Requirement already satisfied: cycler>=0.10 in e:\\anaconda3\\envs\\nlp\\lib\\site-packages (from matplotlib>=1.4.0->alphalens==0.3.2->-r requirements.txt (line 1)) (0.10.0)\n",
      "Requirement already satisfied: kiwisolver>=1.0.1 in e:\\anaconda3\\envs\\nlp\\lib\\site-packages (from matplotlib>=1.4.0->alphalens==0.3.2->-r requirements.txt (line 1)) (1.2.0)\n",
      "Requirement already satisfied: pyparsing!=2.0.4,!=2.1.2,!=2.1.6,>=2.0.1 in e:\\anaconda3\\envs\\nlp\\lib\\site-packages (from matplotlib>=1.4.0->alphalens==0.3.2->-r requirements.txt (line 1)) (2.4.7)\n",
      "Requirement already satisfied: backcall in e:\\anaconda3\\envs\\nlp\\lib\\site-packages (from IPython>=3.2.3->alphalens==0.3.2->-r requirements.txt (line 1)) (0.2.0)\n",
      "Requirement already satisfied: setuptools>=18.5 in e:\\anaconda3\\envs\\nlp\\lib\\site-packages (from IPython>=3.2.3->alphalens==0.3.2->-r requirements.txt (line 1)) (49.2.0.post20200714)\n",
      "Requirement already satisfied: decorator in e:\\anaconda3\\envs\\nlp\\lib\\site-packages (from IPython>=3.2.3->alphalens==0.3.2->-r requirements.txt (line 1)) (4.4.2)\n",
      "Requirement already satisfied: pygments in e:\\anaconda3\\envs\\nlp\\lib\\site-packages (from IPython>=3.2.3->alphalens==0.3.2->-r requirements.txt (line 1)) (2.6.1)\n",
      "Requirement already satisfied: traitlets>=4.2 in e:\\anaconda3\\envs\\nlp\\lib\\site-packages (from IPython>=3.2.3->alphalens==0.3.2->-r requirements.txt (line 1)) (4.3.3)\n",
      "Requirement already satisfied: prompt-toolkit!=3.0.0,!=3.0.1,<3.1.0,>=2.0.0 in e:\\anaconda3\\envs\\nlp\\lib\\site-packages (from IPython>=3.2.3->alphalens==0.3.2->-r requirements.txt (line 1)) (3.0.5)\n",
      "Requirement already satisfied: pickleshare in e:\\anaconda3\\envs\\nlp\\lib\\site-packages (from IPython>=3.2.3->alphalens==0.3.2->-r requirements.txt (line 1)) (0.7.5)\n",
      "Requirement already satisfied: colorama; sys_platform == \"win32\" in e:\\anaconda3\\envs\\nlp\\lib\\site-packages (from IPython>=3.2.3->alphalens==0.3.2->-r requirements.txt (line 1)) (0.4.3)\n",
      "Requirement already satisfied: jedi>=0.10 in e:\\anaconda3\\envs\\nlp\\lib\\site-packages (from IPython>=3.2.3->alphalens==0.3.2->-r requirements.txt (line 1)) (0.17.1)\n",
      "Requirement already satisfied: ipython-genutils in e:\\anaconda3\\envs\\nlp\\lib\\site-packages (from traitlets>=4.2->IPython>=3.2.3->alphalens==0.3.2->-r requirements.txt (line 1)) (0.2.0)\n",
      "Requirement already satisfied: wcwidth in e:\\anaconda3\\envs\\nlp\\lib\\site-packages (from prompt-toolkit!=3.0.0,!=3.0.1,<3.1.0,>=2.0.0->IPython>=3.2.3->alphalens==0.3.2->-r requirements.txt (line 1)) (0.2.5)\n",
      "Requirement already satisfied: parso<0.8.0,>=0.7.0 in e:\\anaconda3\\envs\\nlp\\lib\\site-packages (from jedi>=0.10->IPython>=3.2.3->alphalens==0.3.2->-r requirements.txt (line 1)) (0.7.0)\n"
     ]
    }
   ],
   "source": [
    "import sys\n",
    "!{sys.executable} -m pip install -r requirements.txt"
   ]
  },
  {
   "cell_type": "markdown",
   "metadata": {},
   "source": [
    "### Load Packages"
   ]
  },
  {
   "cell_type": "code",
   "execution_count": 2,
   "metadata": {},
   "outputs": [],
   "source": [
    "import nltk\n",
    "import numpy as np\n",
    "import pandas as pd\n",
    "import pickle\n",
    "import pprint\n",
    "import csv\n",
    "import ast\n",
    "\n",
    "import project_helper\n",
    "import project_tests\n",
    "\n",
    "from tqdm import tqdm\n",
    "from bs4 import BeautifulSoup\n",
    "from collections import defaultdict"
   ]
  },
  {
   "cell_type": "markdown",
   "metadata": {},
   "source": [
    "### Download NLP Corpora\n",
    "You'll need two corpora to run this project: the stopwords corpus for removing stopwords and wordnet for lemmatizing."
   ]
  },
  {
   "cell_type": "code",
   "execution_count": 3,
   "metadata": {},
   "outputs": [
    {
     "name": "stdout",
     "output_type": "stream",
     "text": [
      "[nltk_data] Downloading package stopwords to\n",
      "[nltk_data]     C:\\Users\\Jinjin\\AppData\\Roaming\\nltk_data...\n",
      "[nltk_data]   Package stopwords is already up-to-date!\n",
      "[nltk_data] Downloading package wordnet to\n",
      "[nltk_data]     C:\\Users\\Jinjin\\AppData\\Roaming\\nltk_data...\n",
      "[nltk_data]   Package wordnet is already up-to-date!\n"
     ]
    },
    {
     "data": {
      "text/plain": [
       "True"
      ]
     },
     "execution_count": 3,
     "metadata": {},
     "output_type": "execute_result"
    }
   ],
   "source": [
    "nltk.download('stopwords')\n",
    "nltk.download('wordnet')"
   ]
  },
  {
   "cell_type": "markdown",
   "metadata": {},
   "source": [
    "## Get 10ks\n",
    "We'll be running NLP analysis on 10-k documents. To do that, we first need to download the documents. For this project, we'll download 10-ks for a few companies. To lookup documents for these companies, we'll use their CIK. If you would like to run this against other stocks, we've provided the dict `additional_cik` for more stocks. However, the more stocks you try, the long it will take to run."
   ]
  },
  {
   "cell_type": "code",
   "execution_count": 4,
   "metadata": {},
   "outputs": [],
   "source": [
    "cik_lookup = {\n",
    "    'AMZN': '0001018724',\n",
    "    'BMY': '0000014272',   \n",
    "    'CNP': '0001130310',\n",
    "    'CVX': '0000093410',\n",
    "    'FL': '0000850209',\n",
    "    'FRT': '0000034903',\n",
    "    'HON': '0000773840'}\n",
    "\n",
    "additional_cik = {\n",
    "    'AEP': '0000004904',\n",
    "    'AXP': '0000004962',\n",
    "    'BA': '0000012927', \n",
    "    'BK': '0001390777',\n",
    "    'CAT': '0000018230',\n",
    "    'DE': '0000315189',\n",
    "    'DIS': '0001001039',\n",
    "    'DTE': '0000936340',\n",
    "    'ED': '0001047862',\n",
    "    'EMR': '0000032604',\n",
    "    'ETN': '0001551182',\n",
    "    'GE': '0000040545',\n",
    "    'IBM': '0000051143',\n",
    "    'IP': '0000051434',\n",
    "    'JNJ': '0000200406',\n",
    "    'KO': '0000021344',\n",
    "    'LLY': '0000059478',\n",
    "    'MCD': '0000063908',\n",
    "    'MO': '0000764180',\n",
    "    'MRK': '0000310158',\n",
    "    'MRO': '0000101778',\n",
    "    'PCG': '0001004980',\n",
    "    'PEP': '0000077476',\n",
    "    'PFE': '0000078003',\n",
    "    'PG': '0000080424',\n",
    "    'PNR': '0000077360',\n",
    "    'SYY': '0000096021',\n",
    "    'TXN': '0000097476',\n",
    "    'UTX': '0000101829',\n",
    "    'WFC': '0000072971',\n",
    "    'WMT': '0000104169',\n",
    "    'WY': '0000106535',\n",
    "    'XOM': '0000034088'}"
   ]
  },
  {
   "cell_type": "markdown",
   "metadata": {},
   "source": [
    "### Get list of 10-ks\n",
    "The SEC has a limit on the number of calls you can make to the website per second. In order to avoid hiding that limit, we've created the `SecAPI` class. This will cache data from the SEC and prevent you from going over the limit."
   ]
  },
  {
   "cell_type": "code",
   "execution_count": 5,
   "metadata": {},
   "outputs": [],
   "source": [
    "sec_api = project_helper.SecAPI()"
   ]
  },
  {
   "cell_type": "markdown",
   "metadata": {},
   "source": [
    "With the class constructed, let's pull a list of filled 10-ks from the SEC for each company."
   ]
  },
  {
   "cell_type": "markdown",
   "metadata": {},
   "source": [
    "### Upload `Stock RSS URL` from `csv` file"
   ]
  },
  {
   "cell_type": "code",
   "execution_count": 6,
   "metadata": {},
   "outputs": [],
   "source": [
    "sec_data = {}\n",
    "\n",
    "with open('sec_data.csv', 'r') as f:\n",
    "    reader = csv.reader(f)\n",
    "    for row in reader:\n",
    "        ticker, rss_url = row\n",
    "        sec_data[ticker] = ast.literal_eval(rss_url)"
   ]
  },
  {
   "cell_type": "code",
   "execution_count": 7,
   "metadata": {},
   "outputs": [
    {
     "name": "stdout",
     "output_type": "stream",
     "text": [
      "[('https://www.sec.gov/Archives/edgar/data/1018724/000101872417000011/0001018724-17-000011-index.htm',\n",
      "  '10-K',\n",
      "  '2017-02-10'),\n",
      " ('https://www.sec.gov/Archives/edgar/data/1018724/000101872416000172/0001018724-16-000172-index.htm',\n",
      "  '10-K',\n",
      "  '2016-01-29'),\n",
      " ('https://www.sec.gov/Archives/edgar/data/1018724/000101872415000006/0001018724-15-000006-index.htm',\n",
      "  '10-K',\n",
      "  '2015-01-30'),\n",
      " ('https://www.sec.gov/Archives/edgar/data/1018724/000101872414000006/0001018724-14-000006-index.htm',\n",
      "  '10-K',\n",
      "  '2014-01-31'),\n",
      " ('https://www.sec.gov/Archives/edgar/data/1018724/000119312513028520/0001193125-13-028520-index.htm',\n",
      "  '10-K',\n",
      "  '2013-01-30')]\n"
     ]
    }
   ],
   "source": [
    "example_ticker = 'AMZN'\n",
    "pprint.pprint(sec_data[example_ticker][:5])"
   ]
  },
  {
   "cell_type": "markdown",
   "metadata": {},
   "source": [
    "### Download 10-ks\n",
    "As you see, this is a list of urls. These urls point to a file that contains metadata related to each filling. Since we don't care about the metadata, we'll pull the filling by replacing the url with the filling url."
   ]
  },
  {
   "cell_type": "markdown",
   "metadata": {},
   "source": [
    "### get `10-k` data from a `csv` file"
   ]
  },
  {
   "cell_type": "code",
   "execution_count": 8,
   "metadata": {},
   "outputs": [],
   "source": [
    "pd_fillings_by_ticker = {}\n",
    "colnames=['ticker', 'file_date', '10-k'] \n",
    "\n",
    "pd_fillings_by_ticker = pd.read_csv('raw_fillings_by_ticker.csv', \n",
    "                                    header=None, \n",
    "                                    names=colnames)"
   ]
  },
  {
   "cell_type": "code",
   "execution_count": 9,
   "metadata": {},
   "outputs": [],
   "source": [
    "raw_fillings_by_ticker = defaultdict(dict)\n",
    "\n",
    "for i, row in pd_fillings_by_ticker.iterrows():\n",
    "    raw_fillings_by_ticker[row.ticker][row.file_date] = row['10-k']"
   ]
  },
  {
   "cell_type": "code",
   "execution_count": 10,
   "metadata": {},
   "outputs": [
    {
     "name": "stdout",
     "output_type": "stream",
     "text": [
      "Example Document:\n",
      "\n",
      "<SEC-DOCUMENT>0001018724-17-000011.txt : 20170210\n",
      "<SEC-HEADER>0001018724-17-000011.hdr.sgml : 20170210\n",
      "<ACCEPTANCE-DATETIME>20170209175636\n",
      "ACCESSION NUMBER:\t\t0001018724-17-000011\n",
      "CONFORMED SUBMISSION TYPE:\t10-K\n",
      "PUBLIC DOCUMENT COUNT:\t\t92\n",
      "CONFORMED PERIOD OF REPORT:\t20161231\n",
      "FILED AS OF DATE:\t\t20170210\n",
      "DATE AS OF CHANGE:\t\t20170209\n",
      "\n",
      "FILER:\n",
      "\n",
      "\tCOMPANY DATA:\t\n",
      "\t\tCOMPANY CONFORMED NAME:\t\t\tAMAZON COM INC\n",
      "\t\tCENTRAL INDEX KEY:\t\t\t0001018724\n",
      "\t\tSTANDARD INDUSTRIAL CLASSIFICATION:\tRETAIL-CATALOG & MAIL-ORDER HOUSES [5961]\n",
      "\t\tIRS NUMBER:\t\t\t\t911646860\n",
      "\t\tSTATE OF INCORPORATION:\t\t\tDE\n",
      "\t\tFISCAL YEAR END:\t\t\t1231\n",
      "\n",
      "\tFILING VALUES:\n",
      "\t\tFORM TYPE:\t\t10-K\n",
      "\t\tSEC ACT:\t\t1934 Act\n",
      "\t\tSEC FILE NUMBER:\t000-22513\n",
      "\t\tFILM NUMBER:\t\t17588807\n",
      "\n",
      "\tBUSINESS ADDRESS:\t\n",
      "\t\tSTREET 1:\t\t410 TERRY AVENUE NORTH\n",
      "\t\tCITY:\t\t\tSEATTLE\n",
      "\t\tSTATE:\t\t\tWA\n",
      "\t\tZIP:\t\t\t98109\n",
      "\t\tBUSINESS PHONE:\t\t2062661000\n",
      "\n",
      "\tMAIL ADDRESS:\t\n",
      "\t\tSTREET 1:\t\t410 TERRY AVENUE NORTH\n",
      "\t\tCITY:\t\t\tSEATTLE\n",
      "\t\tSTATE:\t\t\tWA\n",
      "\t\tZIP:\t\t\t98109\n",
      "</SEC-HEADER>\n",
      "<DOCUMENT>\n",
      "<TYPE>10-K\n",
      "<SEQUENCE>1\n",
      "<FILENAME...\n"
     ]
    }
   ],
   "source": [
    "print('Example Document:\\n\\n{}...'.format(next(iter(raw_fillings_by_ticker[example_ticker].values()))[:1000]))"
   ]
  },
  {
   "cell_type": "markdown",
   "metadata": {},
   "source": [
    "### Get Documents\n",
    "With theses fillings downloaded, we want to break them into their associated documents. These documents are sectioned off in the fillings with the tags `<DOCUMENT>` for the start of each document and `</DOCUMENT>` for the end of each document. There's no overlap with these documents, so each `</DOCUMENT>` tag should come after the `<DOCUMENT>` with no `<DOCUMENT>` tag in between.\n",
    "\n",
    "Implement `get_documents` to return a list of these documents from a filling. Make sure not to include the tag in the returned document text."
   ]
  },
  {
   "cell_type": "code",
   "execution_count": 11,
   "metadata": {},
   "outputs": [
    {
     "name": "stdout",
     "output_type": "stream",
     "text": [
      "Tests Passed\n"
     ]
    }
   ],
   "source": [
    "import re\n",
    "\n",
    "\n",
    "def get_documents(text):\n",
    "    \"\"\"\n",
    "    Extract the documents from the text\n",
    "\n",
    "    Parameters\n",
    "    ----------\n",
    "    text : str\n",
    "        The text with the document strings inside\n",
    "\n",
    "    Returns\n",
    "    -------\n",
    "    extracted_docs : list of str\n",
    "        The document strings found in `text`\n",
    "    \"\"\"\n",
    "    \n",
    "    # TODO: Implement\n",
    "    reg1 = re.compile(r'<DOCUMENT>')\n",
    "    reg2 = re.compile(r'</DOCUMENT>')\n",
    "    matches1 = reg1.finditer(text)\n",
    "    matches2 = reg2.finditer(text)\n",
    "    ans = []\n",
    "    for m1, m2 in zip(matches1, matches2):\n",
    "        ans.append( text[m1.end() : m2.start()] )\n",
    "    \n",
    "    return ans\n",
    "\n",
    "\n",
    "project_tests.test_get_documents(get_documents)"
   ]
  },
  {
   "cell_type": "markdown",
   "metadata": {},
   "source": [
    "With the `get_documents` function implemented, let's extract all the documents."
   ]
  },
  {
   "cell_type": "code",
   "execution_count": 12,
   "metadata": {
    "scrolled": false
   },
   "outputs": [
    {
     "name": "stderr",
     "output_type": "stream",
     "text": [
      "Getting Documents from AMZN Fillings: 100%|███████████████████████████████████████████████████████████████████████████████████████████████████████████████████████| 17/17 [00:00<00:00, 55.82filling/s]\n",
      "Getting Documents from BMY Fillings: 100%|████████████████████████████████████████████████████████████████████████████████████████████████████████████████████████| 23/23 [00:00<00:00, 37.77filling/s]\n",
      "Getting Documents from CNP Fillings: 100%|████████████████████████████████████████████████████████████████████████████████████████████████████████████████████████| 15/15 [00:00<00:00, 35.95filling/s]\n",
      "Getting Documents from CVX Fillings: 100%|████████████████████████████████████████████████████████████████████████████████████████████████████████████████████████| 21/21 [00:00<00:00, 35.35filling/s]\n",
      "Getting Documents from FL Fillings: 100%|█████████████████████████████████████████████████████████████████████████████████████████████████████████████████████████| 16/16 [00:00<00:00, 49.52filling/s]\n",
      "Getting Documents from FRT Fillings: 100%|████████████████████████████████████████████████████████████████████████████████████████████████████████████████████████| 19/19 [00:00<00:00, 45.67filling/s]\n",
      "Getting Documents from HON Fillings: 100%|████████████████████████████████████████████████████████████████████████████████████████████████████████████████████████| 20/20 [00:00<00:00, 40.86filling/s]\n"
     ]
    },
    {
     "name": "stdout",
     "output_type": "stream",
     "text": [
      "Document 0 Filed on 2017-02-10:\n",
      "\n",
      "<TYPE>10-K\n",
      "<SEQUENCE>1\n",
      "<FILENAME>amzn-20161231x10k.htm\n",
      "<DESCRIPTION>FORM 10-K\n",
      "<TEXT>\n",
      "<!DOCTYPE html PUBLIC \"-//W3C//DTD HTML 4.01 Transitional//EN\" \"http://www.w3.org/TR/html4/loose.dtd\">\n",
      "<html>\n",
      "\t<he...\n",
      "\n",
      "Document 1 Filed on 2017-02-10:\n",
      "\n",
      "<TYPE>EX-12.1\n",
      "<SEQUENCE>2\n",
      "<FILENAME>amzn-20161231xex121.htm\n",
      "<DESCRIPTION>COMPUTATION OF RATIO OF EARNINGS TO FIXED CHARGES\n",
      "<TEXT>\n",
      "<!DOCTYPE html PUBLIC \"-//W3C//DTD HTML 4.01 Transitional//EN\" \"http:...\n",
      "\n",
      "Document 2 Filed on 2017-02-10:\n",
      "\n",
      "<TYPE>EX-21.1\n",
      "<SEQUENCE>3\n",
      "<FILENAME>amzn-20161231xex211.htm\n",
      "<DESCRIPTION>LIST OF SIGNIFICANT SUBSIDIARIES\n",
      "<TEXT>\n",
      "<!DOCTYPE html PUBLIC \"-//W3C//DTD HTML 4.01 Transitional//EN\" \"http://www.w3.org/TR/h...\n"
     ]
    }
   ],
   "source": [
    "filling_documents_by_ticker = {}\n",
    "\n",
    "for ticker, raw_fillings in raw_fillings_by_ticker.items():\n",
    "    filling_documents_by_ticker[ticker] = {}\n",
    "    for file_date, filling in tqdm(raw_fillings.items(), desc='Getting Documents from {} Fillings'.format(ticker), unit='filling'):\n",
    "        filling_documents_by_ticker[ticker][file_date] = get_documents(filling)\n",
    "\n",
    "\n",
    "print('\\n\\n'.join([\n",
    "    'Document {} Filed on {}:\\n{}...'.format(doc_i, file_date, doc[:200])\n",
    "    for file_date, docs in filling_documents_by_ticker[example_ticker].items()\n",
    "    for doc_i, doc in enumerate(docs)][:3]))"
   ]
  },
  {
   "cell_type": "markdown",
   "metadata": {},
   "source": [
    "### Get Document Types\n",
    "Now that we have all the documents, we want to find the 10-k form in this 10-k filing. Implement the `get_document_type` function to return the type of document given. The document type is located on a line with the `<TYPE>` tag. For example, a form of type \"TEST\" would have the line `<TYPE>TEST`. Make sure to return the type as lowercase, so this example would be returned as \"test\"."
   ]
  },
  {
   "cell_type": "code",
   "execution_count": 13,
   "metadata": {},
   "outputs": [
    {
     "name": "stdout",
     "output_type": "stream",
     "text": [
      "Tests Passed\n"
     ]
    }
   ],
   "source": [
    "def get_document_type(doc):\n",
    "    \"\"\"\n",
    "    Return the document type lowercased\n",
    "\n",
    "    Parameters\n",
    "    ----------\n",
    "    doc : str\n",
    "        The document string\n",
    "\n",
    "    Returns\n",
    "    -------\n",
    "    doc_type : str\n",
    "        The document type lowercased\n",
    "    \"\"\"\n",
    "    \n",
    "    # TODO: Implement\n",
    "    regex = re.compile(r'<TYPE>[^\\s]+')\n",
    "    matches = regex.finditer(doc)\n",
    "    for match in matches:\n",
    "        return doc[match.start() + len('<TYPE>'): match.end()].lower()\n",
    "    \n",
    "    return ''\n",
    "\n",
    "project_tests.test_get_document_type(get_document_type)"
   ]
  },
  {
   "cell_type": "markdown",
   "metadata": {},
   "source": [
    "With the `get_document_type` function, we'll filter out all non 10-k documents."
   ]
  },
  {
   "cell_type": "code",
   "execution_count": 14,
   "metadata": {},
   "outputs": [
    {
     "name": "stdout",
     "output_type": "stream",
     "text": [
      "[\n",
      "  {\n",
      "    cik: '0001018724'\n",
      "    file: '\\n<TYPE>10-K\\n<SEQUENCE>1\\n<FILENAME>amzn-2016123...\n",
      "    file_date: '2017-02-10'},\n",
      "  {\n",
      "    cik: '0001018724'\n",
      "    file: '\\n<TYPE>10-K\\n<SEQUENCE>1\\n<FILENAME>amzn-2015123...\n",
      "    file_date: '2016-01-29'},\n",
      "  {\n",
      "    cik: '0001018724'\n",
      "    file: '\\n<TYPE>10-K\\n<SEQUENCE>1\\n<FILENAME>amzn-2014123...\n",
      "    file_date: '2015-01-30'},\n",
      "  {\n",
      "    cik: '0001018724'\n",
      "    file: '\\n<TYPE>10-K\\n<SEQUENCE>1\\n<FILENAME>amzn-2013123...\n",
      "    file_date: '2014-01-31'},\n",
      "  {\n",
      "    cik: '0001018724'\n",
      "    file: '\\n<TYPE>10-K\\n<SEQUENCE>1\\n<FILENAME>d445434d10k....\n",
      "    file_date: '2013-01-30'},\n",
      "]\n"
     ]
    }
   ],
   "source": [
    "ten_ks_by_ticker = {}\n",
    "\n",
    "for ticker, filling_documents in filling_documents_by_ticker.items():\n",
    "    ten_ks_by_ticker[ticker] = []\n",
    "    for file_date, documents in filling_documents.items():\n",
    "        for document in documents:\n",
    "            if get_document_type(document) == '10-k':\n",
    "                ten_ks_by_ticker[ticker].append({\n",
    "                    'cik': cik_lookup[ticker],\n",
    "                    'file': document,\n",
    "                    'file_date': file_date})\n",
    "\n",
    "\n",
    "project_helper.print_ten_k_data(ten_ks_by_ticker[example_ticker][:5], ['cik', 'file', 'file_date'])"
   ]
  },
  {
   "cell_type": "markdown",
   "metadata": {},
   "source": [
    "## Preprocess the Data\n",
    "### Clean Up\n",
    "As you can see, the text for the documents are very messy. To clean this up, we'll remove the html and lowercase all the text."
   ]
  },
  {
   "cell_type": "code",
   "execution_count": 15,
   "metadata": {},
   "outputs": [],
   "source": [
    "def remove_html_tags(text):\n",
    "    text = BeautifulSoup(text, 'html.parser').get_text()\n",
    "    \n",
    "    return text\n",
    "\n",
    "\n",
    "def clean_text(text):\n",
    "    text = text.lower()\n",
    "    text = remove_html_tags(text)\n",
    "    \n",
    "    return text"
   ]
  },
  {
   "cell_type": "markdown",
   "metadata": {},
   "source": [
    "Using the `clean_text` function, we'll clean up all the documents."
   ]
  },
  {
   "cell_type": "code",
   "execution_count": 16,
   "metadata": {},
   "outputs": [
    {
     "name": "stderr",
     "output_type": "stream",
     "text": [
      "Cleaning AMZN 10-Ks: 100%|███████████████████████████████████████████████████████████████████████████████████████████████████████████████████████████████████████████| 17/17 [00:29<00:00,  1.73s/10-K]\n",
      "Cleaning BMY 10-Ks: 100%|████████████████████████████████████████████████████████████████████████████████████████████████████████████████████████████████████████████| 23/23 [00:58<00:00,  2.54s/10-K]\n",
      "Cleaning CNP 10-Ks: 100%|████████████████████████████████████████████████████████████████████████████████████████████████████████████████████████████████████████████| 15/15 [00:43<00:00,  2.93s/10-K]\n",
      "Cleaning CVX 10-Ks: 100%|████████████████████████████████████████████████████████████████████████████████████████████████████████████████████████████████████████████| 21/21 [01:36<00:00,  4.61s/10-K]\n",
      "Cleaning FL 10-Ks: 100%|█████████████████████████████████████████████████████████████████████████████████████████████████████████████████████████████████████████████| 16/16 [00:18<00:00,  1.18s/10-K]\n",
      "Cleaning FRT 10-Ks: 100%|████████████████████████████████████████████████████████████████████████████████████████████████████████████████████████████████████████████| 19/19 [00:42<00:00,  2.23s/10-K]\n",
      "Cleaning HON 10-Ks: 100%|████████████████████████████████████████████████████████████████████████████████████████████████████████████████████████████████████████████| 19/19 [00:38<00:00,  2.04s/10-K]\n"
     ]
    },
    {
     "name": "stdout",
     "output_type": "stream",
     "text": [
      "[\n",
      "  {\n",
      "    file_clean: '\\n10-k\\n1\\namzn-20161231x10k.htm\\nform 10-k\\n\\n\\n...},\n",
      "  {\n",
      "    file_clean: '\\n10-k\\n1\\namzn-20151231x10k.htm\\nform 10-k\\n\\n\\n...},\n",
      "  {\n",
      "    file_clean: '\\n10-k\\n1\\namzn-20141231x10k.htm\\nform 10-k\\n\\n\\n...},\n",
      "  {\n",
      "    file_clean: '\\n10-k\\n1\\namzn-20131231x10k.htm\\nform 10-k\\n\\n\\n...},\n",
      "  {\n",
      "    file_clean: '\\n10-k\\n1\\nd445434d10k.htm\\nform 10-k\\n\\n\\nform 1...},\n",
      "]\n"
     ]
    }
   ],
   "source": [
    "for ticker, ten_ks in ten_ks_by_ticker.items():\n",
    "    for ten_k in tqdm(ten_ks, desc='Cleaning {} 10-Ks'.format(ticker), unit='10-K'):\n",
    "        ten_k['file_clean'] = clean_text(ten_k['file'])\n",
    "\n",
    "project_helper.print_ten_k_data(ten_ks_by_ticker[example_ticker][:5], ['file_clean'])"
   ]
  },
  {
   "cell_type": "markdown",
   "metadata": {},
   "source": [
    "### Lemmatize\n",
    "With the text cleaned up, it's time to distill the verbs down. Implement the `lemmatize_words` function to lemmatize verbs in the list of words provided."
   ]
  },
  {
   "cell_type": "code",
   "execution_count": 17,
   "metadata": {},
   "outputs": [
    {
     "name": "stdout",
     "output_type": "stream",
     "text": [
      "Tests Passed\n"
     ]
    }
   ],
   "source": [
    "from nltk.stem import WordNetLemmatizer\n",
    "from nltk.corpus import wordnet\n",
    "\n",
    "\n",
    "def lemmatize_words(words):\n",
    "    \"\"\"\n",
    "    Lemmatize words \n",
    "\n",
    "    Parameters\n",
    "    ----------\n",
    "    words : list of str\n",
    "        List of words\n",
    "\n",
    "    Returns\n",
    "    -------\n",
    "    lemmatized_words : list of str\n",
    "        List of lemmatized words\n",
    "    \"\"\"\n",
    "    \n",
    "    # TODO: Implement\n",
    "    wnl = WordNetLemmatizer()\n",
    "    \n",
    "    return [wnl.lemmatize(word, 'v') for word in words]\n",
    "\n",
    "project_tests.test_lemmatize_words(lemmatize_words)"
   ]
  },
  {
   "cell_type": "markdown",
   "metadata": {},
   "source": [
    "With the `lemmatize_words` function implemented, let's lemmatize all the data."
   ]
  },
  {
   "cell_type": "code",
   "execution_count": 18,
   "metadata": {},
   "outputs": [
    {
     "name": "stderr",
     "output_type": "stream",
     "text": [
      "Lemmatize AMZN 10-Ks: 100%|██████████████████████████████████████████████████████████████████████████████████████████████████████████████████████████████████████████| 17/17 [00:02<00:00,  7.0910-K/s]\n",
      "Lemmatize BMY 10-Ks: 100%|███████████████████████████████████████████████████████████████████████████████████████████████████████████████████████████████████████████| 23/23 [00:05<00:00,  4.4110-K/s]\n",
      "Lemmatize CNP 10-Ks: 100%|███████████████████████████████████████████████████████████████████████████████████████████████████████████████████████████████████████████| 15/15 [00:04<00:00,  3.3510-K/s]\n",
      "Lemmatize CVX 10-Ks: 100%|███████████████████████████████████████████████████████████████████████████████████████████████████████████████████████████████████████████| 21/21 [00:06<00:00,  3.4310-K/s]\n",
      "Lemmatize FL 10-Ks: 100%|████████████████████████████████████████████████████████████████████████████████████████████████████████████████████████████████████████████| 16/16 [00:02<00:00,  6.7610-K/s]\n",
      "Lemmatize FRT 10-Ks: 100%|███████████████████████████████████████████████████████████████████████████████████████████████████████████████████████████████████████████| 19/19 [00:03<00:00,  5.1010-K/s]\n",
      "Lemmatize HON 10-Ks: 100%|███████████████████████████████████████████████████████████████████████████████████████████████████████████████████████████████████████████| 19/19 [00:03<00:00,  6.0210-K/s]\n"
     ]
    },
    {
     "name": "stdout",
     "output_type": "stream",
     "text": [
      "[\n",
      "  {\n",
      "    file_lemma: '['10', 'k', '1', 'amzn', '20161231x10k', 'htm', '...},\n",
      "  {\n",
      "    file_lemma: '['10', 'k', '1', 'amzn', '20151231x10k', 'htm', '...},\n",
      "  {\n",
      "    file_lemma: '['10', 'k', '1', 'amzn', '20141231x10k', 'htm', '...},\n",
      "  {\n",
      "    file_lemma: '['10', 'k', '1', 'amzn', '20131231x10k', 'htm', '...},\n",
      "  {\n",
      "    file_lemma: '['10', 'k', '1', 'd445434d10k', 'htm', 'form', '1...},\n",
      "]\n"
     ]
    }
   ],
   "source": [
    "word_pattern = re.compile('\\w+')\n",
    "\n",
    "for ticker, ten_ks in ten_ks_by_ticker.items():\n",
    "    for ten_k in tqdm(ten_ks, desc='Lemmatize {} 10-Ks'.format(ticker), unit='10-K'):\n",
    "        ten_k['file_lemma'] = lemmatize_words(word_pattern.findall(ten_k['file_clean']))\n",
    "\n",
    "project_helper.print_ten_k_data(ten_ks_by_ticker[example_ticker][:5], ['file_lemma'])"
   ]
  },
  {
   "cell_type": "markdown",
   "metadata": {},
   "source": [
    "### Remove Stopwords"
   ]
  },
  {
   "cell_type": "code",
   "execution_count": 19,
   "metadata": {},
   "outputs": [
    {
     "name": "stderr",
     "output_type": "stream",
     "text": [
      "Remove Stop Words for AMZN 10-Ks: 100%|██████████████████████████████████████████████████████████████████████████████████████████████████████████████████████████████| 17/17 [00:01<00:00, 13.5810-K/s]\n",
      "Remove Stop Words for BMY 10-Ks: 100%|███████████████████████████████████████████████████████████████████████████████████████████████████████████████████████████████| 23/23 [00:03<00:00,  7.1510-K/s]\n",
      "Remove Stop Words for CNP 10-Ks: 100%|███████████████████████████████████████████████████████████████████████████████████████████████████████████████████████████████| 15/15 [00:02<00:00,  6.2010-K/s]\n",
      "Remove Stop Words for CVX 10-Ks: 100%|███████████████████████████████████████████████████████████████████████████████████████████████████████████████████████████████| 21/21 [00:03<00:00,  6.5310-K/s]\n",
      "Remove Stop Words for FL 10-Ks: 100%|████████████████████████████████████████████████████████████████████████████████████████████████████████████████████████████████| 16/16 [00:01<00:00, 12.2310-K/s]\n",
      "Remove Stop Words for FRT 10-Ks: 100%|███████████████████████████████████████████████████████████████████████████████████████████████████████████████████████████████| 19/19 [00:01<00:00, 10.4910-K/s]\n",
      "Remove Stop Words for HON 10-Ks: 100%|███████████████████████████████████████████████████████████████████████████████████████████████████████████████████████████████| 19/19 [00:01<00:00, 12.4810-K/s]\n"
     ]
    },
    {
     "name": "stdout",
     "output_type": "stream",
     "text": [
      "Stop Words Removed\n"
     ]
    }
   ],
   "source": [
    "from nltk.corpus import stopwords\n",
    "\n",
    "\n",
    "lemma_english_stopwords = lemmatize_words(stopwords.words('english'))\n",
    "\n",
    "for ticker, ten_ks in ten_ks_by_ticker.items():\n",
    "    for ten_k in tqdm(ten_ks, desc='Remove Stop Words for {} 10-Ks'.format(ticker), unit='10-K'):\n",
    "        ten_k['file_lemma'] = [word for word in ten_k['file_lemma'] if word not in lemma_english_stopwords]\n",
    "\n",
    "print('Stop Words Removed')"
   ]
  },
  {
   "cell_type": "markdown",
   "metadata": {},
   "source": [
    "## Analysis on 10ks\n",
    "\n",
    "### Part 1: Bag-of-Words\n",
    "\n",
    "In the following, we will convert our corpus of 10-k documents into bag-of-words, and convert them into document vectors using Term-Frequency-Inverse-Document-Frequency (tf-idf) re-weighting. Afterward, we will compute sentiments and similarity metrics. Since we will be reusing our notebook, so the various sections are linked below:\n",
    "\n",
    "1. <a href=\"#Bag of Words\">Compute bag-of-words</a>: implement `bag_of_words` that converts tokenized words into a dictionary of word-counts\n",
    "\n",
    "2. <a href=\"#Sentiments\">Get Sentiments</a> : using wordlists, compute positive and negative sentiments from bag-of-words. \n",
    "\n",
    "### Part 2: Document-Vector\n",
    "\n",
    "3. <a href=\"#compute_idf\">Compute idf </a>: computing the inverse document frequency, implement `get_idf`\n",
    "\n",
    "4. <a href=\"#compute_tf\">Compute tf </a>: computing the term frequency, implement `get_tf`\n",
    "\n",
    "5. <a href=\"#doc_vector\">Document vector </a>: using the functions `get_idf` and `get_tf`, compute a word_vector for each document in the corpus\n",
    "6. <a href=\"#similarity\">Similarities </a>: comparing two vectors, and compute cosine and jacard similarity metrics. Implement `get_cos` and `get_jac`\n",
    "\n",
    "For solutions, see [bagofwords_solutions.py](./bagofwords_solutions.py). You can load the functions by simply calling \n",
    "\n",
    "`from bagofwords_solutions import *`\n",
    "\n",
    "\n",
    "### Loughran McDonald Sentiment Word Lists\n",
    "We'll be using the Loughran and McDonald sentiment word lists. These word lists cover the following sentiment:\n",
    "- Negative \n",
    "- Positive\n",
    "- Uncertainty\n",
    "- Litigious\n",
    "- Constraining\n",
    "- Superfluous\n",
    "- Modal\n",
    "\n",
    "This will allow us to do the sentiment analysis on the 10-ks. Let's first load these word lists. We'll be looking into a few of these sentiments."
   ]
  },
  {
   "cell_type": "code",
   "execution_count": 20,
   "metadata": {},
   "outputs": [
    {
     "data": {
      "text/html": [
       "<div>\n",
       "<style scoped>\n",
       "    .dataframe tbody tr th:only-of-type {\n",
       "        vertical-align: middle;\n",
       "    }\n",
       "\n",
       "    .dataframe tbody tr th {\n",
       "        vertical-align: top;\n",
       "    }\n",
       "\n",
       "    .dataframe thead th {\n",
       "        text-align: right;\n",
       "    }\n",
       "</style>\n",
       "<table border=\"1\" class=\"dataframe\">\n",
       "  <thead>\n",
       "    <tr style=\"text-align: right;\">\n",
       "      <th></th>\n",
       "      <th>negative</th>\n",
       "      <th>positive</th>\n",
       "      <th>uncertainty</th>\n",
       "      <th>litigious</th>\n",
       "      <th>constraining</th>\n",
       "      <th>interesting</th>\n",
       "      <th>word</th>\n",
       "    </tr>\n",
       "  </thead>\n",
       "  <tbody>\n",
       "    <tr>\n",
       "      <th>9</th>\n",
       "      <td>True</td>\n",
       "      <td>False</td>\n",
       "      <td>False</td>\n",
       "      <td>False</td>\n",
       "      <td>False</td>\n",
       "      <td>False</td>\n",
       "      <td>abandon</td>\n",
       "    </tr>\n",
       "    <tr>\n",
       "      <th>12</th>\n",
       "      <td>True</td>\n",
       "      <td>False</td>\n",
       "      <td>False</td>\n",
       "      <td>False</td>\n",
       "      <td>False</td>\n",
       "      <td>False</td>\n",
       "      <td>abandonment</td>\n",
       "    </tr>\n",
       "    <tr>\n",
       "      <th>13</th>\n",
       "      <td>True</td>\n",
       "      <td>False</td>\n",
       "      <td>False</td>\n",
       "      <td>False</td>\n",
       "      <td>False</td>\n",
       "      <td>False</td>\n",
       "      <td>abandonments</td>\n",
       "    </tr>\n",
       "    <tr>\n",
       "      <th>51</th>\n",
       "      <td>True</td>\n",
       "      <td>False</td>\n",
       "      <td>False</td>\n",
       "      <td>False</td>\n",
       "      <td>False</td>\n",
       "      <td>False</td>\n",
       "      <td>abdicate</td>\n",
       "    </tr>\n",
       "    <tr>\n",
       "      <th>54</th>\n",
       "      <td>True</td>\n",
       "      <td>False</td>\n",
       "      <td>False</td>\n",
       "      <td>False</td>\n",
       "      <td>False</td>\n",
       "      <td>False</td>\n",
       "      <td>abdication</td>\n",
       "    </tr>\n",
       "  </tbody>\n",
       "</table>\n",
       "</div>"
      ],
      "text/plain": [
       "    negative  positive  uncertainty  litigious  constraining  interesting  \\\n",
       "9       True     False        False      False         False        False   \n",
       "12      True     False        False      False         False        False   \n",
       "13      True     False        False      False         False        False   \n",
       "51      True     False        False      False         False        False   \n",
       "54      True     False        False      False         False        False   \n",
       "\n",
       "            word  \n",
       "9        abandon  \n",
       "12   abandonment  \n",
       "13  abandonments  \n",
       "51      abdicate  \n",
       "54    abdication  "
      ]
     },
     "execution_count": 20,
     "metadata": {},
     "output_type": "execute_result"
    }
   ],
   "source": [
    "import os\n",
    "\n",
    "sentiments = ['negative', 'positive', 'uncertainty', 'litigious', 'constraining', 'interesting']\n",
    "\n",
    "sentiment_df = pd.read_csv(os.path.join('data', 'project_5_loughran_mcdonald', 'loughran_mcdonald_master_dic_2016.csv'))\n",
    "sentiment_df.columns = [column.lower() for column in sentiment_df.columns] # Lowercase the columns for ease of use\n",
    "\n",
    "# Remove unused information\n",
    "sentiment_df = sentiment_df[sentiments + ['word']]\n",
    "sentiment_df[sentiments] = sentiment_df[sentiments].astype(bool)\n",
    "sentiment_df = sentiment_df[(sentiment_df[sentiments]).any(1)]\n",
    "\n",
    "# Apply the same preprocessing to these words as the 10-k words\n",
    "sentiment_df['word'] = lemmatize_words(sentiment_df['word'].str.lower())\n",
    "sentiment_df = sentiment_df.drop_duplicates('word')\n",
    "\n",
    "\n",
    "sentiment_df.head()"
   ]
  },
  {
   "cell_type": "markdown",
   "metadata": {},
   "source": [
    "### Bag of Words\n",
    "using the sentiment word lists, let's generate sentiment bag of words from the 10-k documents. Implement `get_bag_of_words` to generate a bag of words that counts the number of sentiment words in each doc. You can ignore words that are not in `sentiment_words`."
   ]
  },
  {
   "cell_type": "code",
   "execution_count": 21,
   "metadata": {},
   "outputs": [
    {
     "name": "stdout",
     "output_type": "stream",
     "text": [
      "Tests Passed\n"
     ]
    }
   ],
   "source": [
    "from collections import defaultdict, Counter\n",
    "from sklearn.feature_extraction.text import CountVectorizer\n",
    "\n",
    "\n",
    "def get_bag_of_words(sentiment_words, docs):\n",
    "    \"\"\"\n",
    "    Generate a bag of words from documents for a certain sentiment\n",
    "\n",
    "    Parameters\n",
    "    ----------\n",
    "    sentiment_words: Pandas Series\n",
    "        Words that signify a certain sentiment\n",
    "    docs : list of str\n",
    "        List of documents used to generate bag of words\n",
    "\n",
    "    Returns\n",
    "    -------\n",
    "    bag_of_words : 2-d Numpy Ndarray of int\n",
    "        Bag of words sentiment for each document\n",
    "        The first dimension is the document.\n",
    "        The second dimension is the word.\n",
    "    \"\"\"\n",
    "    \n",
    "    # TODO: Implement\n",
    "    vectorizer = CountVectorizer(vocabulary=sentiment_words)\n",
    "    \n",
    "    ans = vectorizer.fit_transform(docs)\n",
    "    \n",
    "    return ans.toarray()\n",
    "#     sentiment_set = set(sentiment_words)\n",
    "#     ans = []\n",
    "#     for doc in docs:\n",
    "#         words = doc.split(\" \")\n",
    "#         counts = defaultdict(int)\n",
    "#         for w in words:\n",
    "#             if w in sentiment_set:\n",
    "#                 counts[w] += 1\n",
    "#         ans.append( [counts[w] for w in sentiment_words]  )\n",
    "#     return np.array(ans)\n",
    "\n",
    "project_tests.test_get_bag_of_words(get_bag_of_words)"
   ]
  },
  {
   "cell_type": "markdown",
   "metadata": {},
   "source": [
    "Using the `get_bag_of_words` function, we'll generate a bag of words for all the documents."
   ]
  },
  {
   "cell_type": "code",
   "execution_count": 22,
   "metadata": {},
   "outputs": [
    {
     "name": "stdout",
     "output_type": "stream",
     "text": [
      "[\n",
      "  {\n",
      "    negative: '[[0 0 0 ... 0 0 0]\\n [0 0 0 ... 0 0 0]\\n [0 0 0 ....\n",
      "    positive: '[[16  0  0 ...  0  0  0]\\n [16  0  0 ...  0  0  0...\n",
      "    uncertainty: '[[0 0 0 ... 1 1 3]\\n [0 0 0 ... 1 1 3]\\n [0 0 0 ....\n",
      "    litigious: '[[0 0 0 ... 0 0 0]\\n [0 0 0 ... 0 0 0]\\n [0 0 0 ....\n",
      "    constraining: '[[0 0 0 ... 0 0 2]\\n [0 0 0 ... 0 0 2]\\n [0 0 0 ....\n",
      "    interesting: '[[2 0 0 ... 0 0 0]\\n [2 0 0 ... 0 0 0]\\n [2 0 0 ....},\n",
      "]\n"
     ]
    }
   ],
   "source": [
    "sentiment_bow_ten_ks = {}\n",
    "\n",
    "for ticker, ten_ks in ten_ks_by_ticker.items():\n",
    "    lemma_docs = [' '.join(ten_k['file_lemma']) for ten_k in ten_ks]\n",
    "    \n",
    "    sentiment_bow_ten_ks[ticker] = {\n",
    "        sentiment: get_bag_of_words(sentiment_df[sentiment_df[sentiment]]['word'], lemma_docs)\n",
    "        for sentiment in sentiments}\n",
    "\n",
    "project_helper.print_ten_k_data([sentiment_bow_ten_ks[example_ticker]], sentiments)"
   ]
  },
  {
   "cell_type": "markdown",
   "metadata": {},
   "source": [
    "### Jaccard Similarity\n",
    "\n",
    "Given two word-vectors $\\vec u$ (or $u_i$) and $\\vec v$ (or $v_i$), corresponding to two documents, we want to compute different similarity metrics. \n",
    "\n",
    "1. Cosine similarity, defined by \n",
    "$$\n",
    "{\\rm Sim}_{\\cos} = \\frac{\\vec u \\cdot \\vec v}{|\\vec u| |\\vec v|}\n",
    "$$\n",
    "\n",
    "2. Jaccard similarity, defined by\n",
    "$$\n",
    "{\\rm Sim}_{\\rm Jaccard} = \\frac{\\sum_i \\min\\{u_i, v_i\\}}{\\sum_i \\max\\{u_i, v_i\\}}\n",
    "$$\n",
    "\n",
    "Implement the function similarity as `sim_cis(u,v)` and `sim_jac(u,v)`. Utilize the numpy functions `numpy.linalg.norm` to compute norm of a vector and `np.dot` for computing dot-products. `np.minimum` and `np.maximum` are also useful vectorized pair-wise minimum and maximum functions.\n",
    "\n",
    "(*optional challenge: implement both functions in one line!*)\n",
    "\n",
    "Using the bag of words, let's calculate the jaccard similarity on the bag of words and plot it over time. Implement `get_jaccard_similarity` to return the jaccard similarities between each tick in time. Since the input, `bag_of_words_matrix`, is a bag of words for each time period in order, you just need to compute the jaccard similarities for each neighboring bag of words. Make sure to turn the bag of words into a boolean array when calculating the jaccard similarity."
   ]
  },
  {
   "cell_type": "code",
   "execution_count": 23,
   "metadata": {},
   "outputs": [
    {
     "name": "stdout",
     "output_type": "stream",
     "text": [
      "Tests Passed\n"
     ]
    }
   ],
   "source": [
    "from sklearn.metrics import jaccard_similarity_score\n",
    "\n",
    "def get_jaccard_similarity(bag_of_words_matrix):\n",
    "    \"\"\"\n",
    "    Get jaccard similarities for neighboring documents\n",
    "\n",
    "    Parameters\n",
    "    ----------\n",
    "    bag_of_words : 2-d Numpy Ndarray of int\n",
    "        Bag of words sentiment for each document\n",
    "        The first dimension is the document.\n",
    "        The second dimension is the word.\n",
    "\n",
    "    Returns\n",
    "    -------\n",
    "    jaccard_similarities : list of float\n",
    "        Jaccard similarities for neighboring documents\n",
    "    \"\"\"\n",
    "    \n",
    "    # TODO: Implement\n",
    "    bag_of_words_matrix = bag_of_words_matrix.astype(bool)\n",
    "    ans = []\n",
    "    for i in range( len(bag_of_words_matrix)-1):\n",
    "        u = bag_of_words_matrix[i]\n",
    "        v = bag_of_words_matrix[i+1]\n",
    "        ans.append( jaccard_similarity_score(u, v) )\n",
    "    return ans\n",
    "\n",
    "project_tests.test_get_jaccard_similarity(get_jaccard_similarity)"
   ]
  },
  {
   "cell_type": "markdown",
   "metadata": {},
   "source": [
    "Using the `get_jaccard_similarity` function, let's plot the similarities over time."
   ]
  },
  {
   "cell_type": "code",
   "execution_count": 24,
   "metadata": {},
   "outputs": [
    {
     "data": {
      "image/png": "[encoded data removed]",
      "text/plain": [
       "<Figure size 720x504 with 1 Axes>"
      ]
     },
     "metadata": {
      "needs_background": "light"
     },
     "output_type": "display_data"
    }
   ],
   "source": [
    "# Get dates for the universe\n",
    "file_dates = {\n",
    "    ticker: [ten_k['file_date'] for ten_k in ten_ks]\n",
    "    for ticker, ten_ks in ten_ks_by_ticker.items()}  \n",
    "\n",
    "jaccard_similarities = {\n",
    "    ticker: {\n",
    "        sentiment_name: get_jaccard_similarity(sentiment_values)\n",
    "        for sentiment_name, sentiment_values in ten_k_sentiments.items()}\n",
    "    for ticker, ten_k_sentiments in sentiment_bow_ten_ks.items()}\n",
    "\n",
    "project_helper.plot_similarities(\n",
    "    [jaccard_similarities[example_ticker][sentiment] for sentiment in sentiments],\n",
    "    file_dates[example_ticker][1:],\n",
    "    'Jaccard Similarities for {} Sentiment'.format(example_ticker),\n",
    "    sentiments)"
   ]
  },
  {
   "cell_type": "markdown",
   "metadata": {},
   "source": [
    "### TFIDF\n",
    "\n",
    "We have the below way to calculate document vector manually.\n",
    "\n",
    "#### a. Computer idf\n",
    "Given a corpus, or a list of bag-of-words, we want to compute for each word $w$, the inverse-document-frequency, or ${\\rm idf}(w)$. This can be done in a few steps:\n",
    "\n",
    "1. Gather a set of all the words in all the bag-of-words (python set comes in handy, and the union operator `|` is useful here)\n",
    "\n",
    "\n",
    "2. Loop over each word $w$, and compute ${\\rm df}_w$, the number of documents where this word appears at least once. A dictionary is useful for keeping track of ${\\rm df}_w$\n",
    "\n",
    "\n",
    "3. After computing ${\\rm df}_w$, we can compute ${\\rm idf}(w)$. There are usually two possibilities, the simplest one is \n",
    "$${\\rm idf}(w)=\\frac{N}{{\\rm df}_w}$$\n",
    "Where $N$ is the total number of documents in the corpus and $df_w$ the number of documents that contain the word $w$. Frequently, a logarithm term is added as well\n",
    "$${\\rm idf}(w)=\\log\\frac{N}{{\\rm df}_w}$$\n",
    "One issue with using the logarithm is that when ${\\rm df}_w = N$, ${\\rm idf}(w)=0$, indicating that words common to all documents would be ignored. If we don't want this behavior, we can define ${\\rm idf}(w)=\\log\\left(1+N/{\\rm df}_w\\right)$ or ${\\rm idf}(w)=1+\\log\\left(N/{\\rm df}_w\\right)$ instead. For us, we'll not use the extra +1 for ${\\rm idf}$.\n",
    "\n",
    "#### b. Compute tf\n",
    "\n",
    "Below we will compute ${\\rm tf}(w,d)$, or the term frequency for a given word $w$, in a given document $d$. Since our ultimate goal is to compute a document vector, we'd like to keep a few things in mind\n",
    "\n",
    "1. Store the ${\\rm tf}(w, d)$ for each word in a document as a dictionary\n",
    "2. Even when a word doesn't appear in the document $d$, we still want to keep a $0$ entry in the dictionary. This is important when we convert the dictionary to a vector, where zero entries are important\n",
    "\n",
    "\n",
    "There are multiple definitions for ${\\rm tf}(w,d)$, the simplest one is\n",
    "\n",
    "$$\n",
    "{\\rm tf}(w,d)=\\frac{f_{w,d}}{a_d}\n",
    "$$\n",
    "\n",
    "where $f_{w,d}$ is the number of occurence of the word $w$ in the document $d$, and $a$ the average occurence of all the words in that document for normalization. Just like ${\\rm idf}(w)$, a logarithm can be added\n",
    "\n",
    "$$\n",
    "{\\rm tf}(w,d)=\\begin{cases}\n",
    "\\frac{1+\\log f_{w,d}}{1+\\log a_d} & f_{w,d} > 0 \\\\\n",
    "0 & f_{w,d} = 0 \\\\\n",
    "\\end{cases}\n",
    "$$\n",
    "\n",
    "#### c. Document Vector\n",
    "Combine the implementation for ${\\rm tf}(w,d)$ and ${\\rm idf}(w)$ to compute a word-vector for each document in a corpus. Don't forget the zero-padding that is needed when a word appears in some document but not others. \n",
    "\n",
    "We can also use the `TfidfVectorizer` package from sklean to get TFIDF easily.\n",
    "\n",
    "using the sentiment word lists, let's generate sentiment TFIDF from the 10-k documents. Implement `get_tfidf` to generate TFIDF from each document, using sentiment words as the terms. You can ignore words that are not in `sentiment_words`."
   ]
  },
  {
   "cell_type": "code",
   "execution_count": 25,
   "metadata": {},
   "outputs": [
    {
     "name": "stdout",
     "output_type": "stream",
     "text": [
      "Tests Passed\n"
     ]
    }
   ],
   "source": [
    "from sklearn.feature_extraction.text import TfidfVectorizer\n",
    "\n",
    "\n",
    "def get_tfidf(sentiment_words, docs):\n",
    "    \"\"\"\n",
    "    Generate TFIDF values from documents for a certain sentiment\n",
    "\n",
    "    Parameters\n",
    "    ----------\n",
    "    sentiment_words: Pandas Series\n",
    "        Words that signify a certain sentiment\n",
    "    docs : list of str\n",
    "        List of documents used to generate bag of words\n",
    "\n",
    "    Returns\n",
    "    -------\n",
    "    tfidf : 2-d Numpy Ndarray of float\n",
    "        TFIDF sentiment for each document\n",
    "        The first dimension is the document.\n",
    "        The second dimension is the word.\n",
    "    \"\"\"\n",
    "    \n",
    "    # TODO: Implement\n",
    "    vectorizer = TfidfVectorizer(vocabulary=sentiment_words)\n",
    "    tfidf = vectorizer.fit_transform(docs)    \n",
    "    return tfidf.toarray()\n",
    "\n",
    "\n",
    "project_tests.test_get_tfidf(get_tfidf)"
   ]
  },
  {
   "cell_type": "markdown",
   "metadata": {},
   "source": [
    "Using the `get_tfidf` function, let's generate the TFIDF values for all the documents."
   ]
  },
  {
   "cell_type": "code",
   "execution_count": 26,
   "metadata": {},
   "outputs": [
    {
     "name": "stdout",
     "output_type": "stream",
     "text": [
      "[\n",
      "  {\n",
      "    negative: '[[0.         0.         0.         ... 0.        ...\n",
      "    positive: '[[0.22288432 0.         0.         ... 0.        ...\n",
      "    uncertainty: '[[0.         0.         0.         ... 0.00510228...\n",
      "    litigious: '[[0. 0. 0. ... 0. 0. 0.]\\n [0. 0. 0. ... 0. 0. 0....\n",
      "    constraining: '[[0.         0.         0.         ... 0.        ...\n",
      "    interesting: '[[0.01673784 0.         0.         ... 0.        ...},\n",
      "]\n"
     ]
    }
   ],
   "source": [
    "sentiment_tfidf_ten_ks = {}\n",
    "\n",
    "for ticker, ten_ks in ten_ks_by_ticker.items():\n",
    "    lemma_docs = [' '.join(ten_k['file_lemma']) for ten_k in ten_ks]\n",
    "    \n",
    "    sentiment_tfidf_ten_ks[ticker] = {\n",
    "        sentiment: get_tfidf(sentiment_df[sentiment_df[sentiment]]['word'], lemma_docs)\n",
    "        for sentiment in sentiments}\n",
    "\n",
    "project_helper.print_ten_k_data([sentiment_tfidf_ten_ks[example_ticker]], sentiments)"
   ]
  },
  {
   "cell_type": "markdown",
   "metadata": {},
   "source": [
    "### Cosine Similarity\n",
    "Using the TFIDF values, we'll calculate the cosine similarity and plot it over time. Implement `get_cosine_similarity` to return the cosine similarities between each tick in time. Since the input, `tfidf_matrix`, is a TFIDF vector for each time period in order, you just need to computer the cosine similarities for each neighboring vector."
   ]
  },
  {
   "cell_type": "code",
   "execution_count": 27,
   "metadata": {},
   "outputs": [
    {
     "name": "stdout",
     "output_type": "stream",
     "text": [
      "Tests Passed\n"
     ]
    }
   ],
   "source": [
    "from sklearn.metrics.pairwise import cosine_similarity\n",
    "\n",
    "\n",
    "def get_cosine_similarity(tfidf_matrix):\n",
    "    \"\"\"\n",
    "    Get cosine similarities for each neighboring TFIDF vector/document\n",
    "\n",
    "    Parameters\n",
    "    ----------\n",
    "    tfidf : 2-d Numpy Ndarray of float\n",
    "        TFIDF sentiment for each document\n",
    "        The first dimension is the document.\n",
    "        The second dimension is the word.\n",
    "\n",
    "    Returns\n",
    "    -------\n",
    "    cosine_similarities : list of float\n",
    "        Cosine similarities for neighboring documents\n",
    "    \"\"\"\n",
    "    \n",
    "    # TODO: Implement\n",
    "#     ans = []\n",
    "#     for i in range(len(tfidf_matrix)-1):\n",
    "#         u = tfidf_matrix[i].reshape(1, -1)\n",
    "#         v = tfidf_matrix[i+1].reshape(1, -1)\n",
    "#         ans.append( cosine_similarity(u, v)[0][0] )\n",
    "    return list(np.diag(cosine_similarity(tfidf_matrix), k = 1))\n",
    "\n",
    "\n",
    "project_tests.test_get_cosine_similarity(get_cosine_similarity)"
   ]
  },
  {
   "cell_type": "markdown",
   "metadata": {},
   "source": [
    "Let's plot the cosine similarities over time."
   ]
  },
  {
   "cell_type": "code",
   "execution_count": 28,
   "metadata": {},
   "outputs": [
    {
     "data": {
      "image/png": "[encoded data removed]",
      "text/plain": [
       "<Figure size 720x504 with 1 Axes>"
      ]
     },
     "metadata": {
      "needs_background": "light"
     },
     "output_type": "display_data"
    }
   ],
   "source": [
    "cosine_similarities = {\n",
    "    ticker: {\n",
    "        sentiment_name: get_cosine_similarity(sentiment_values)\n",
    "        for sentiment_name, sentiment_values in ten_k_sentiments.items()}\n",
    "    for ticker, ten_k_sentiments in sentiment_tfidf_ten_ks.items()}\n",
    "\n",
    "project_helper.plot_similarities(\n",
    "    [cosine_similarities[example_ticker][sentiment] for sentiment in sentiments],\n",
    "    file_dates[example_ticker][1:],\n",
    "    'Cosine Similarities for {} Sentiment'.format(example_ticker),\n",
    "    sentiments)"
   ]
  },
  {
   "cell_type": "markdown",
   "metadata": {},
   "source": []
  },
  {
   "cell_type": "markdown",
   "metadata": {},
   "source": [
    "## Evaluate Alpha Factors\n",
    "Just like we did in project 4, let's evaluate the alpha factors. For this section, we'll just be looking at the cosine similarities, but it can be applied to the jaccard similarities as well.\n",
    "### Price Data\n",
    "Let's get yearly pricing to run the factor against, since 10-Ks are produced annually."
   ]
  },
  {
   "cell_type": "code",
   "execution_count": 30,
   "metadata": {},
   "outputs": [
    {
     "data": {
      "text/html": [
       "<div>\n",
       "<style scoped>\n",
       "    .dataframe tbody tr th:only-of-type {\n",
       "        vertical-align: middle;\n",
       "    }\n",
       "\n",
       "    .dataframe tbody tr th {\n",
       "        vertical-align: top;\n",
       "    }\n",
       "\n",
       "    .dataframe thead th {\n",
       "        text-align: right;\n",
       "    }\n",
       "</style>\n",
       "<table border=\"1\" class=\"dataframe\">\n",
       "  <thead>\n",
       "    <tr style=\"text-align: right;\">\n",
       "      <th>ticker</th>\n",
       "      <th>A</th>\n",
       "      <th>AA</th>\n",
       "      <th>AAAP</th>\n",
       "      <th>AABA</th>\n",
       "      <th>AAC</th>\n",
       "      <th>AADR</th>\n",
       "      <th>AAIT</th>\n",
       "      <th>AAL</th>\n",
       "      <th>AAMC</th>\n",
       "      <th>AAME</th>\n",
       "      <th>...</th>\n",
       "      <th>ZUMZ</th>\n",
       "      <th>ZUO</th>\n",
       "      <th>ZVZZC</th>\n",
       "      <th>ZVZZCNX</th>\n",
       "      <th>ZX</th>\n",
       "      <th>ZXYZ_A</th>\n",
       "      <th>ZYME</th>\n",
       "      <th>ZYNE</th>\n",
       "      <th>ZZK</th>\n",
       "      <th>ZZZ</th>\n",
       "    </tr>\n",
       "    <tr>\n",
       "      <th>date</th>\n",
       "      <th></th>\n",
       "      <th></th>\n",
       "      <th></th>\n",
       "      <th></th>\n",
       "      <th></th>\n",
       "      <th></th>\n",
       "      <th></th>\n",
       "      <th></th>\n",
       "      <th></th>\n",
       "      <th></th>\n",
       "      <th></th>\n",
       "      <th></th>\n",
       "      <th></th>\n",
       "      <th></th>\n",
       "      <th></th>\n",
       "      <th></th>\n",
       "      <th></th>\n",
       "      <th></th>\n",
       "      <th></th>\n",
       "      <th></th>\n",
       "      <th></th>\n",
       "    </tr>\n",
       "  </thead>\n",
       "  <tbody>\n",
       "    <tr>\n",
       "      <th>1962-01-01</th>\n",
       "      <td>nan</td>\n",
       "      <td>nan</td>\n",
       "      <td>nan</td>\n",
       "      <td>nan</td>\n",
       "      <td>nan</td>\n",
       "      <td>nan</td>\n",
       "      <td>nan</td>\n",
       "      <td>nan</td>\n",
       "      <td>nan</td>\n",
       "      <td>nan</td>\n",
       "      <td>...</td>\n",
       "      <td>nan</td>\n",
       "      <td>nan</td>\n",
       "      <td>nan</td>\n",
       "      <td>nan</td>\n",
       "      <td>nan</td>\n",
       "      <td>nan</td>\n",
       "      <td>nan</td>\n",
       "      <td>nan</td>\n",
       "      <td>nan</td>\n",
       "      <td>nan</td>\n",
       "    </tr>\n",
       "    <tr>\n",
       "      <th>1963-01-01</th>\n",
       "      <td>nan</td>\n",
       "      <td>nan</td>\n",
       "      <td>nan</td>\n",
       "      <td>nan</td>\n",
       "      <td>nan</td>\n",
       "      <td>nan</td>\n",
       "      <td>nan</td>\n",
       "      <td>nan</td>\n",
       "      <td>nan</td>\n",
       "      <td>nan</td>\n",
       "      <td>...</td>\n",
       "      <td>nan</td>\n",
       "      <td>nan</td>\n",
       "      <td>nan</td>\n",
       "      <td>nan</td>\n",
       "      <td>nan</td>\n",
       "      <td>nan</td>\n",
       "      <td>nan</td>\n",
       "      <td>nan</td>\n",
       "      <td>nan</td>\n",
       "      <td>nan</td>\n",
       "    </tr>\n",
       "    <tr>\n",
       "      <th>1964-01-01</th>\n",
       "      <td>nan</td>\n",
       "      <td>nan</td>\n",
       "      <td>nan</td>\n",
       "      <td>nan</td>\n",
       "      <td>nan</td>\n",
       "      <td>nan</td>\n",
       "      <td>nan</td>\n",
       "      <td>nan</td>\n",
       "      <td>nan</td>\n",
       "      <td>nan</td>\n",
       "      <td>...</td>\n",
       "      <td>nan</td>\n",
       "      <td>nan</td>\n",
       "      <td>nan</td>\n",
       "      <td>nan</td>\n",
       "      <td>nan</td>\n",
       "      <td>nan</td>\n",
       "      <td>nan</td>\n",
       "      <td>nan</td>\n",
       "      <td>nan</td>\n",
       "      <td>nan</td>\n",
       "    </tr>\n",
       "    <tr>\n",
       "      <th>1965-01-01</th>\n",
       "      <td>nan</td>\n",
       "      <td>nan</td>\n",
       "      <td>nan</td>\n",
       "      <td>nan</td>\n",
       "      <td>nan</td>\n",
       "      <td>nan</td>\n",
       "      <td>nan</td>\n",
       "      <td>nan</td>\n",
       "      <td>nan</td>\n",
       "      <td>nan</td>\n",
       "      <td>...</td>\n",
       "      <td>nan</td>\n",
       "      <td>nan</td>\n",
       "      <td>nan</td>\n",
       "      <td>nan</td>\n",
       "      <td>nan</td>\n",
       "      <td>nan</td>\n",
       "      <td>nan</td>\n",
       "      <td>nan</td>\n",
       "      <td>nan</td>\n",
       "      <td>nan</td>\n",
       "    </tr>\n",
       "    <tr>\n",
       "      <th>1966-01-01</th>\n",
       "      <td>nan</td>\n",
       "      <td>nan</td>\n",
       "      <td>nan</td>\n",
       "      <td>nan</td>\n",
       "      <td>nan</td>\n",
       "      <td>nan</td>\n",
       "      <td>nan</td>\n",
       "      <td>nan</td>\n",
       "      <td>nan</td>\n",
       "      <td>nan</td>\n",
       "      <td>...</td>\n",
       "      <td>nan</td>\n",
       "      <td>nan</td>\n",
       "      <td>nan</td>\n",
       "      <td>nan</td>\n",
       "      <td>nan</td>\n",
       "      <td>nan</td>\n",
       "      <td>nan</td>\n",
       "      <td>nan</td>\n",
       "      <td>nan</td>\n",
       "      <td>nan</td>\n",
       "    </tr>\n",
       "  </tbody>\n",
       "</table>\n",
       "<p>5 rows × 11941 columns</p>\n",
       "</div>"
      ],
      "text/plain": [
       "ticker       A  AA  AAAP  AABA  AAC  AADR  AAIT  AAL  AAMC  AAME  ...  ZUMZ  \\\n",
       "date                                                              ...         \n",
       "1962-01-01 nan nan   nan   nan  nan   nan   nan  nan   nan   nan  ...   nan   \n",
       "1963-01-01 nan nan   nan   nan  nan   nan   nan  nan   nan   nan  ...   nan   \n",
       "1964-01-01 nan nan   nan   nan  nan   nan   nan  nan   nan   nan  ...   nan   \n",
       "1965-01-01 nan nan   nan   nan  nan   nan   nan  nan   nan   nan  ...   nan   \n",
       "1966-01-01 nan nan   nan   nan  nan   nan   nan  nan   nan   nan  ...   nan   \n",
       "\n",
       "ticker      ZUO  ZVZZC  ZVZZCNX  ZX  ZXYZ_A  ZYME  ZYNE  ZZK  ZZZ  \n",
       "date                                                               \n",
       "1962-01-01  nan    nan      nan nan     nan   nan   nan  nan  nan  \n",
       "1963-01-01  nan    nan      nan nan     nan   nan   nan  nan  nan  \n",
       "1964-01-01  nan    nan      nan nan     nan   nan   nan  nan  nan  \n",
       "1965-01-01  nan    nan      nan nan     nan   nan   nan  nan  nan  \n",
       "1966-01-01  nan    nan      nan nan     nan   nan   nan  nan  nan  \n",
       "\n",
       "[5 rows x 11941 columns]"
      ]
     },
     "execution_count": 30,
     "metadata": {},
     "output_type": "execute_result"
    }
   ],
   "source": [
    "pricing = pd.read_csv('data/project_5_yr/yr-quotemedia.csv', parse_dates=['date'])\n",
    "pricing = pricing.pivot(index='date', columns='ticker', values='adj_close')\n",
    "\n",
    "pricing.head()"
   ]
  },
  {
   "cell_type": "markdown",
   "metadata": {},
   "source": [
    "### Dict to DataFrame\n",
    "The alphalens library uses dataframes, so we we'll need to turn our dictionary into a dataframe. "
   ]
  },
  {
   "cell_type": "code",
   "execution_count": 31,
   "metadata": {},
   "outputs": [
    {
     "data": {
      "text/html": [
       "<div>\n",
       "<style scoped>\n",
       "    .dataframe tbody tr th:only-of-type {\n",
       "        vertical-align: middle;\n",
       "    }\n",
       "\n",
       "    .dataframe tbody tr th {\n",
       "        vertical-align: top;\n",
       "    }\n",
       "\n",
       "    .dataframe thead th {\n",
       "        text-align: right;\n",
       "    }\n",
       "</style>\n",
       "<table border=\"1\" class=\"dataframe\">\n",
       "  <thead>\n",
       "    <tr style=\"text-align: right;\">\n",
       "      <th></th>\n",
       "      <th>date</th>\n",
       "      <th>ticker</th>\n",
       "      <th>sentiment</th>\n",
       "      <th>value</th>\n",
       "    </tr>\n",
       "  </thead>\n",
       "  <tbody>\n",
       "    <tr>\n",
       "      <th>0</th>\n",
       "      <td>2016-01-01</td>\n",
       "      <td>AMZN</td>\n",
       "      <td>negative</td>\n",
       "      <td>0.98065125</td>\n",
       "    </tr>\n",
       "    <tr>\n",
       "      <th>1</th>\n",
       "      <td>2015-01-01</td>\n",
       "      <td>AMZN</td>\n",
       "      <td>negative</td>\n",
       "      <td>0.95951741</td>\n",
       "    </tr>\n",
       "    <tr>\n",
       "      <th>2</th>\n",
       "      <td>2014-01-01</td>\n",
       "      <td>AMZN</td>\n",
       "      <td>negative</td>\n",
       "      <td>0.98838551</td>\n",
       "    </tr>\n",
       "    <tr>\n",
       "      <th>3</th>\n",
       "      <td>2013-01-01</td>\n",
       "      <td>AMZN</td>\n",
       "      <td>negative</td>\n",
       "      <td>0.97472377</td>\n",
       "    </tr>\n",
       "    <tr>\n",
       "      <th>4</th>\n",
       "      <td>2012-01-01</td>\n",
       "      <td>AMZN</td>\n",
       "      <td>negative</td>\n",
       "      <td>0.97585100</td>\n",
       "    </tr>\n",
       "  </tbody>\n",
       "</table>\n",
       "</div>"
      ],
      "text/plain": [
       "        date ticker sentiment      value\n",
       "0 2016-01-01   AMZN  negative 0.98065125\n",
       "1 2015-01-01   AMZN  negative 0.95951741\n",
       "2 2014-01-01   AMZN  negative 0.98838551\n",
       "3 2013-01-01   AMZN  negative 0.97472377\n",
       "4 2012-01-01   AMZN  negative 0.97585100"
      ]
     },
     "execution_count": 31,
     "metadata": {},
     "output_type": "execute_result"
    }
   ],
   "source": [
    "cosine_similarities_df_dict = {'date': [], 'ticker': [], 'sentiment': [], 'value': []}\n",
    "\n",
    "for ticker, ten_k_sentiments in cosine_similarities.items():\n",
    "    for sentiment_name, sentiment_values in ten_k_sentiments.items():\n",
    "        for sentiment_values, sentiment_value in enumerate(sentiment_values):\n",
    "            cosine_similarities_df_dict['ticker'].append(ticker)\n",
    "            cosine_similarities_df_dict['sentiment'].append(sentiment_name)\n",
    "            cosine_similarities_df_dict['value'].append(sentiment_value)\n",
    "            cosine_similarities_df_dict['date'].append(file_dates[ticker][1:][sentiment_values])\n",
    "\n",
    "cosine_similarities_df = pd.DataFrame(cosine_similarities_df_dict)\n",
    "cosine_similarities_df['date'] = pd.DatetimeIndex(cosine_similarities_df['date']).year\n",
    "cosine_similarities_df['date'] = pd.to_datetime(cosine_similarities_df['date'], format='%Y')\n",
    "\n",
    "cosine_similarities_df.head()"
   ]
  },
  {
   "cell_type": "markdown",
   "metadata": {},
   "source": [
    "### Alphalens Format\n",
    "In order to use a lot of the alphalens functions, we need to aligned the indices and convert the time to unix timestamp. In this next cell, we'll do just that."
   ]
  },
  {
   "cell_type": "code",
   "execution_count": 32,
   "metadata": {},
   "outputs": [
    {
     "name": "stdout",
     "output_type": "stream",
     "text": [
      "Dropped 0.0% entries from factor data: 0.0% in forward returns computation and 0.0% in binning phase (set max_loss=0 to see potentially suppressed Exceptions).\n",
      "max_loss is 35.0%, not exceeded: OK!\n",
      "Dropped 0.0% entries from factor data: 0.0% in forward returns computation and 0.0% in binning phase (set max_loss=0 to see potentially suppressed Exceptions).\n",
      "max_loss is 35.0%, not exceeded: OK!\n",
      "Dropped 0.0% entries from factor data: 0.0% in forward returns computation and 0.0% in binning phase (set max_loss=0 to see potentially suppressed Exceptions).\n",
      "max_loss is 35.0%, not exceeded: OK!\n",
      "Dropped 0.0% entries from factor data: 0.0% in forward returns computation and 0.0% in binning phase (set max_loss=0 to see potentially suppressed Exceptions).\n",
      "max_loss is 35.0%, not exceeded: OK!\n",
      "Dropped 0.0% entries from factor data: 0.0% in forward returns computation and 0.0% in binning phase (set max_loss=0 to see potentially suppressed Exceptions).\n",
      "max_loss is 35.0%, not exceeded: OK!\n",
      "Dropped 0.0% entries from factor data: 0.0% in forward returns computation and 0.0% in binning phase (set max_loss=0 to see potentially suppressed Exceptions).\n",
      "max_loss is 35.0%, not exceeded: OK!\n"
     ]
    },
    {
     "data": {
      "text/html": [
       "<div>\n",
       "<style scoped>\n",
       "    .dataframe tbody tr th:only-of-type {\n",
       "        vertical-align: middle;\n",
       "    }\n",
       "\n",
       "    .dataframe tbody tr th {\n",
       "        vertical-align: top;\n",
       "    }\n",
       "\n",
       "    .dataframe thead th {\n",
       "        text-align: right;\n",
       "    }\n",
       "</style>\n",
       "<table border=\"1\" class=\"dataframe\">\n",
       "  <thead>\n",
       "    <tr style=\"text-align: right;\">\n",
       "      <th></th>\n",
       "      <th></th>\n",
       "      <th>1D</th>\n",
       "      <th>factor</th>\n",
       "      <th>factor_quantile</th>\n",
       "    </tr>\n",
       "    <tr>\n",
       "      <th>date</th>\n",
       "      <th>asset</th>\n",
       "      <th></th>\n",
       "      <th></th>\n",
       "      <th></th>\n",
       "    </tr>\n",
       "  </thead>\n",
       "  <tbody>\n",
       "    <tr>\n",
       "      <th rowspan=\"3\" valign=\"top\">1994-01-01</th>\n",
       "      <th>BMY</th>\n",
       "      <td>0.53264104</td>\n",
       "      <td>0.44784189</td>\n",
       "      <td>1</td>\n",
       "    </tr>\n",
       "    <tr>\n",
       "      <th>CVX</th>\n",
       "      <td>0.22211880</td>\n",
       "      <td>0.91363233</td>\n",
       "      <td>5</td>\n",
       "    </tr>\n",
       "    <tr>\n",
       "      <th>FRT</th>\n",
       "      <td>0.17159556</td>\n",
       "      <td>0.47730392</td>\n",
       "      <td>3</td>\n",
       "    </tr>\n",
       "    <tr>\n",
       "      <th rowspan=\"2\" valign=\"top\">1995-01-01</th>\n",
       "      <th>BMY</th>\n",
       "      <td>0.32152919</td>\n",
       "      <td>0.89403523</td>\n",
       "      <td>1</td>\n",
       "    </tr>\n",
       "    <tr>\n",
       "      <th>CVX</th>\n",
       "      <td>0.28478156</td>\n",
       "      <td>0.91066582</td>\n",
       "      <td>3</td>\n",
       "    </tr>\n",
       "  </tbody>\n",
       "</table>\n",
       "</div>"
      ],
      "text/plain": [
       "                         1D     factor  factor_quantile\n",
       "date       asset                                       \n",
       "1994-01-01 BMY   0.53264104 0.44784189                1\n",
       "           CVX   0.22211880 0.91363233                5\n",
       "           FRT   0.17159556 0.47730392                3\n",
       "1995-01-01 BMY   0.32152919 0.89403523                1\n",
       "           CVX   0.28478156 0.91066582                3"
      ]
     },
     "execution_count": 32,
     "metadata": {},
     "output_type": "execute_result"
    }
   ],
   "source": [
    "import alphalens as al\n",
    "\n",
    "factor_data = {}\n",
    "skipped_sentiments = []\n",
    "\n",
    "for sentiment in sentiments:\n",
    "    cs_df = cosine_similarities_df[(cosine_similarities_df['sentiment'] == sentiment)]\n",
    "    cs_df = cs_df.pivot(index='date', columns='ticker', values='value')\n",
    "\n",
    "    try:\n",
    "        data = al.utils.get_clean_factor_and_forward_returns(cs_df.stack(), pricing, quantiles=5, bins=None, periods=[1])\n",
    "        factor_data[sentiment] = data\n",
    "    except:\n",
    "        skipped_sentiments.append(sentiment)\n",
    "\n",
    "if skipped_sentiments:\n",
    "    print('\\nSkipped the following sentiments:\\n{}'.format('\\n'.join(skipped_sentiments)))\n",
    "factor_data[sentiments[0]].head()"
   ]
  },
  {
   "cell_type": "markdown",
   "metadata": {},
   "source": [
    "### Alphalens Format with Unix Time\n",
    "Alphalen's `factor_rank_autocorrelation` and `mean_return_by_quantile` functions require unix timestamps to work, so we'll also create factor dataframes with unix time."
   ]
  },
  {
   "cell_type": "code",
   "execution_count": null,
   "metadata": {},
   "outputs": [],
   "source": [
    "unixt_factor_data = {\n",
    "    factor: data.set_index(pd.MultiIndex.from_tuples(\n",
    "        [(x.timestamp(), y) for x, y in data.index.values],\n",
    "        names=['date', 'asset']))\n",
    "    for factor, data in factor_data.items()}"
   ]
  },
  {
   "cell_type": "markdown",
   "metadata": {},
   "source": [
    "### Factor Returns\n",
    "Let's view the factor returns over time. We should be seeing it generally move up and to the right."
   ]
  },
  {
   "cell_type": "code",
   "execution_count": null,
   "metadata": {},
   "outputs": [],
   "source": [
    "ls_factor_returns = pd.DataFrame()\n",
    "\n",
    "for factor_name, data in factor_data.items():\n",
    "    ls_factor_returns[factor_name] = al.performance.factor_returns(data).iloc[:, 0]\n",
    "\n",
    "(1 + ls_factor_returns).cumprod().plot()"
   ]
  },
  {
   "cell_type": "markdown",
   "metadata": {},
   "source": [
    "### Basis Points Per Day per Quantile\n",
    "It is not enough to look just at the factor weighted return. A good alpha is also monotonic in quantiles. Let's looks the basis points for the factor returns."
   ]
  },
  {
   "cell_type": "code",
   "execution_count": null,
   "metadata": {},
   "outputs": [],
   "source": [
    "qr_factor_returns = pd.DataFrame()\n",
    "\n",
    "for factor_name, data in unixt_factor_data.items():\n",
    "    qr_factor_returns[factor_name] = al.performance.mean_return_by_quantile(data)[0].iloc[:, 0]\n",
    "\n",
    "(10000*qr_factor_returns).plot.bar(\n",
    "    subplots=True,\n",
    "    sharey=True,\n",
    "    layout=(5,3),\n",
    "    figsize=(14, 14),\n",
    "    legend=False)"
   ]
  },
  {
   "cell_type": "markdown",
   "metadata": {},
   "source": [
    "### Turnover Analysis\n",
    "Without doing a full and formal backtest, we can analyze how stable the alphas are over time. Stability in this sense means that from period to period, the alpha ranks do not change much. Since trading is costly, we always prefer, all other things being equal, that the ranks do not change significantly per period. We can measure this with the **Factor Rank Autocorrelation (FRA)**."
   ]
  },
  {
   "cell_type": "code",
   "execution_count": null,
   "metadata": {},
   "outputs": [],
   "source": [
    "ls_FRA = pd.DataFrame()\n",
    "\n",
    "for factor, data in unixt_factor_data.items():\n",
    "    ls_FRA[factor] = al.performance.factor_rank_autocorrelation(data)\n",
    "\n",
    "ls_FRA.plot(title=\"Factor Rank Autocorrelation\")"
   ]
  },
  {
   "cell_type": "markdown",
   "metadata": {},
   "source": [
    "### Sharpe Ratio of the Alphas\n",
    "The last analysis we'll do on the factors will be sharpe ratio. Let's see what the sharpe ratio for the factors are. Generally, a Sharpe Ratio of near 1.0 or higher is an acceptable single alpha for this universe."
   ]
  },
  {
   "cell_type": "code",
   "execution_count": null,
   "metadata": {},
   "outputs": [],
   "source": [
    "daily_annualization_factor = np.sqrt(252)\n",
    "\n",
    "(daily_annualization_factor * ls_factor_returns.mean() / ls_factor_returns.std()).round(2)"
   ]
  },
  {
   "cell_type": "markdown",
   "metadata": {},
   "source": [
    "That's it! You've successfully done sentiment analysis on 10-ks!\n",
    "## Submission\n",
    "Now that you're done with the project, it's time to submit it. Click the submit button in the bottom right. One of our reviewers will give you feedback on your project with a pass or not passed grade. You can continue to the next section while you wait for feedback."
   ]
  }
 ],
 "metadata": {
  "kernelspec": {
   "display_name": "Python 3",
   "language": "python",
   "name": "python3"
  },
  "language_info": {
   "codemirror_mode": {
    "name": "ipython",
    "version": 3
   },
   "file_extension": ".py",
   "mimetype": "text/x-python",
   "name": "python",
   "nbconvert_exporter": "python",
   "pygments_lexer": "ipython3",
   "version": "3.6.10"
  }
 },
 "nbformat": 4,
 "nbformat_minor": 2
}
